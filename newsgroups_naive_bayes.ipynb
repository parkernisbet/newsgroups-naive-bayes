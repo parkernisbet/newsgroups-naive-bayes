{
 "cells": [
  {
   "source": [
    "# Environment Setup"
   ],
   "cell_type": "markdown",
   "metadata": {}
  },
  {
   "source": [
    "The files used in this .ipynb file were sourced from http://qwone.com/~jason/20Newsgroups/. In particular, analysis was conducted on the \"Matlab/Octave\" processed set of files."
   ],
   "cell_type": "markdown",
   "metadata": {}
  },
  {
   "cell_type": "code",
   "execution_count": 1,
   "metadata": {},
   "outputs": [
    {
     "output_type": "execute_result",
     "data": {
      "text/plain": [
       "494093"
      ]
     },
     "metadata": {},
     "execution_count": 1
    }
   ],
   "source": [
    "# downloading matlab processed version of \"20 Newsgroups\" data set\n",
    "import numpy as np, requests\n",
    "\n",
    "matlab_url = 'http://qwone.com/~jason/20Newsgroups/20news-bydate-matlab.tgz'\n",
    "vocab_url = 'http://qwone.com/~jason/20Newsgroups/vocabulary.txt'\n",
    "\n",
    "r = requests.get(matlab_url)\n",
    "open('20news-bydate-matlab.tgz', 'wb').write(r.content)\n",
    "\n",
    "r = requests.get(vocab_url)\n",
    "open('vocabulary.txt', 'wb').write(r.content)"
   ]
  },
  {
   "cell_type": "code",
   "execution_count": 2,
   "metadata": {},
   "outputs": [
    {
     "output_type": "stream",
     "name": "stdout",
     "text": [
      "20news-bydate/matlab/\n",
      "20news-bydate/matlab/train.data\n",
      "20news-bydate/matlab/train.label\n",
      "20news-bydate/matlab/train.map\n",
      "20news-bydate/matlab/test.data\n",
      "20news-bydate/matlab/test.label\n",
      "20news-bydate/matlab/test.map\n"
     ]
    }
   ],
   "source": [
    "# unpacking tar files and cleaning up directory\n",
    "!rm -rf data\n",
    "!mkdir data\n",
    "!tar -xvzf 20news-bydate-matlab.tgz\n",
    "!mv ./20news-bydate/matlab/* ./data\n",
    "!mv vocabulary.txt ./data\n",
    "!rm -r 20news-bydate 20news-bydate-matlab.tgz"
   ]
  },
  {
   "cell_type": "code",
   "execution_count": 3,
   "metadata": {},
   "outputs": [],
   "source": [
    "# loading in test and train data / labels\n",
    "train_data = np.loadtxt('./data/train.data', delimiter = ' ')\n",
    "train_labels = np.loadtxt('./data/train.label', delimiter = ' ')\n",
    "\n",
    "test_data = np.loadtxt('./data/test.data', delimiter = ' ')\n",
    "test_labels = np.loadtxt('./data/test.label', delimiter = ' ')"
   ]
  },
  {
   "cell_type": "code",
   "execution_count": 4,
   "metadata": {},
   "outputs": [],
   "source": [
    "# loading vocab and mapper objects\n",
    "vocabulary = np.loadtxt('./data/vocabulary.txt', dtype = object)\n",
    "train_map = np.loadtxt('./data/train.map', dtype = object, delimiter = ' ')\n",
    "test_map = np.loadtxt('./data/test.map', dtype = object, delimiter = ' ')"
   ]
  },
  {
   "cell_type": "code",
   "execution_count": 5,
   "metadata": {},
   "outputs": [],
   "source": [
    "# correcting column data types\n",
    "train_data = train_data.astype(int)\n",
    "train_labels = train_labels.astype(int)\n",
    "test_data = test_data.astype(int)\n",
    "test_labels = test_labels.astype(int)\n",
    "train_map[:, 1] = train_map[:, 1].astype(int)\n",
    "test_map[:, 1] = test_map[:, 1].astype(int)"
   ]
  },
  {
   "source": [
    "# Classifier Construction"
   ],
   "cell_type": "markdown",
   "metadata": {}
  },
  {
   "source": [
    "This multinomial naive Bayes classifier relies on two main calculations: label priors (percent of documents attributed to each label) and word probabilities (probability of words appears in documents from each label)."
   ],
   "cell_type": "markdown",
   "metadata": {}
  },
  {
   "cell_type": "code",
   "execution_count": 6,
   "metadata": {},
   "outputs": [
    {
     "output_type": "execute_result",
     "data": {
      "text/plain": [
       "       fracs\n",
       "1  -3.156025\n",
       "2  -2.965060\n",
       "3  -2.980672\n",
       "4  -2.954786\n",
       "5  -2.975441\n",
       "6  -2.946304\n",
       "7  -2.963340\n",
       "8  -2.946304\n",
       "9  -2.939570\n",
       "10 -2.942932\n",
       "11 -2.936220\n",
       "12 -2.942932\n",
       "13 -2.947995\n",
       "14 -2.942932\n",
       "15 -2.944616\n",
       "16 -2.934549\n",
       "17 -3.029025\n",
       "18 -2.994757\n",
       "19 -3.189926\n",
       "20 -3.400222"
      ],
      "text/html": "<div>\n<style scoped>\n    .dataframe tbody tr th:only-of-type {\n        vertical-align: middle;\n    }\n\n    .dataframe tbody tr th {\n        vertical-align: top;\n    }\n\n    .dataframe thead th {\n        text-align: right;\n    }\n</style>\n<table border=\"1\" class=\"dataframe\">\n  <thead>\n    <tr style=\"text-align: right;\">\n      <th></th>\n      <th>fracs</th>\n    </tr>\n  </thead>\n  <tbody>\n    <tr>\n      <th>1</th>\n      <td>-3.156025</td>\n    </tr>\n    <tr>\n      <th>2</th>\n      <td>-2.965060</td>\n    </tr>\n    <tr>\n      <th>3</th>\n      <td>-2.980672</td>\n    </tr>\n    <tr>\n      <th>4</th>\n      <td>-2.954786</td>\n    </tr>\n    <tr>\n      <th>5</th>\n      <td>-2.975441</td>\n    </tr>\n    <tr>\n      <th>6</th>\n      <td>-2.946304</td>\n    </tr>\n    <tr>\n      <th>7</th>\n      <td>-2.963340</td>\n    </tr>\n    <tr>\n      <th>8</th>\n      <td>-2.946304</td>\n    </tr>\n    <tr>\n      <th>9</th>\n      <td>-2.939570</td>\n    </tr>\n    <tr>\n      <th>10</th>\n      <td>-2.942932</td>\n    </tr>\n    <tr>\n      <th>11</th>\n      <td>-2.936220</td>\n    </tr>\n    <tr>\n      <th>12</th>\n      <td>-2.942932</td>\n    </tr>\n    <tr>\n      <th>13</th>\n      <td>-2.947995</td>\n    </tr>\n    <tr>\n      <th>14</th>\n      <td>-2.942932</td>\n    </tr>\n    <tr>\n      <th>15</th>\n      <td>-2.944616</td>\n    </tr>\n    <tr>\n      <th>16</th>\n      <td>-2.934549</td>\n    </tr>\n    <tr>\n      <th>17</th>\n      <td>-3.029025</td>\n    </tr>\n    <tr>\n      <th>18</th>\n      <td>-2.994757</td>\n    </tr>\n    <tr>\n      <th>19</th>\n      <td>-3.189926</td>\n    </tr>\n    <tr>\n      <th>20</th>\n      <td>-3.400222</td>\n    </tr>\n  </tbody>\n</table>\n</div>"
     },
     "metadata": {},
     "execution_count": 6
    }
   ],
   "source": [
    "# calculating log label priors\n",
    "import pandas as pd\n",
    "\n",
    "doc_total = train_labels.shape[0]\n",
    "_, data = np.unique(train_labels, return_counts = True) # only keeping counts, trashing unique label structure\n",
    "data = np.log(data/doc_total)\n",
    "df_label_fracs = pd.DataFrame(data, index = range(1, 21), columns = ['fracs'])\n",
    "df_label_fracs\n"
   ]
  },
  {
   "cell_type": "code",
   "execution_count": 7,
   "metadata": {},
   "outputs": [
    {
     "output_type": "execute_result",
     "data": {
      "text/plain": [
       "        1         2          3          4          5         6          7      \\\n",
       "1   -9.615805  -8.09598  -6.634462  -9.952278  -7.836022 -8.517193 -10.308953   \n",
       "2   -7.941733 -7.958262 -12.052607  -9.162235  -9.344557 -7.975069  -9.654711   \n",
       "3   -9.446433 -7.682844  -11.93134  -9.040968  -8.840297 -8.375992 -10.832727   \n",
       "4    -9.78779 -8.519279 -11.985014 -11.985014  -9.587119 -8.093194 -10.886402   \n",
       "5   -9.954846 -8.374395 -11.900756 -11.207609 -11.207609 -8.029555 -11.207609   \n",
       "6   -8.402689 -6.866718  -12.27389  -7.891864  -9.501301 -8.303598  -9.182848   \n",
       "7  -11.714085 -8.346789 -11.714085 -10.615473 -10.615473 -8.217578 -11.714085   \n",
       "8   -9.771612 -8.066864 -12.074197 -12.074197   -9.43514 -7.608289  -9.994755   \n",
       "9   -9.298467  -7.78701 -12.006517  -10.39708  -10.39708 -7.575701 -10.620223   \n",
       "10 -11.345016 -8.511802 -12.038163  -10.93955 -11.345016  -6.32443 -11.345016   \n",
       "11 -11.525126 -7.998765 -12.218273 -12.218273 -11.525126 -6.871165 -11.119661   \n",
       "12  -8.504448 -7.963881  -12.47474  -9.989833  -8.380396 -8.068021  -9.216644   \n",
       "13 -10.623526  -8.48346 -12.009821 -10.911208 -10.218061 -8.575833 -10.218061   \n",
       "14  -9.512877 -8.596586 -12.285466  -9.646409  -9.240943 -8.036971 -11.592319   \n",
       "15  -8.386117 -7.859097 -12.277937  -9.142443  -9.712988 -7.643208  -9.099884   \n",
       "16 -12.477835 -7.657553  -9.644622 -10.398393  -9.769785 -7.852862 -12.477835   \n",
       "17  -9.380513 -8.849885 -12.376246 -10.430336  -9.891339 -7.703417 -11.277633   \n",
       "18  -10.26558  -7.62005 -12.663475  -10.36089 -11.564863  -7.60723 -10.466251   \n",
       "19 -12.419626 -8.730747 -12.419626  -9.241573  -9.529255 -7.395746 -11.726479   \n",
       "20 -12.102289 -8.273647  -9.799704 -11.003676  -8.924235 -8.295626 -10.310529   \n",
       "\n",
       "        8          9          10     ...      61179      61180      61181  \\\n",
       "1  -11.561716  -8.699515  -7.306103  ... -12.254863 -12.254863 -12.254863   \n",
       "2  -10.106697  -6.899315 -10.666312  ... -12.052607 -12.052607 -12.052607   \n",
       "3  -10.832727  -6.954606  -11.93134  ...  -11.93134  -11.93134  -11.93134   \n",
       "4  -11.291867  -8.093194 -11.985014  ... -11.985014 -11.985014 -11.985014   \n",
       "5  -11.900756  -8.029555 -11.900756  ... -11.900756 -11.900756 -11.900756   \n",
       "6  -10.887596  -6.801619  -12.27389  ...  -12.27389  -12.27389  -12.27389   \n",
       "7  -11.714085  -8.346789 -10.327791  ... -11.714085 -11.714085 -11.714085   \n",
       "8  -10.687903  -9.129758 -12.074197  ... -12.074197 -12.074197 -12.074197   \n",
       "9   -11.31337  -10.39708 -12.006517  ... -12.006517 -12.006517 -12.006517   \n",
       "10 -12.038163  -10.93955 -12.038163  ... -12.038163 -12.038163 -12.038163   \n",
       "11 -10.021048 -10.608835 -12.218273  ... -12.218273 -12.218273 -12.218273   \n",
       "12 -10.395299  -7.756241  -12.47474  ...  -12.47474  -12.47474  -12.47474   \n",
       "13 -10.911208  -8.608623 -12.009821  ... -12.009821 -12.009821 -12.009821   \n",
       "14  -9.982881  -9.027369 -12.285466  ... -12.285466 -12.285466 -12.285466   \n",
       "15  -9.975352  -9.059062 -12.277937  ... -12.277937 -12.277937 -12.277937   \n",
       "16 -12.477835  -9.587463  -8.434784  ... -12.477835 -12.477835 -12.477835   \n",
       "17 -10.179021  -9.380513 -12.376246  ... -12.376246 -12.376246 -12.376246   \n",
       "18  -9.229488  -10.26558 -11.970328  ... -12.663475 -12.663475 -12.663475   \n",
       "19  -9.529255 -10.021731 -12.419626  ... -12.419626 -12.419626 -12.419626   \n",
       "20 -11.409141  -9.106556 -10.310529  ... -12.102289 -12.102289 -12.102289   \n",
       "\n",
       "        61182      61183      61184      61185      61186      61187  \\\n",
       "1  -12.254863 -12.254863 -12.254863 -12.254863 -12.254863 -12.254863   \n",
       "2  -12.052607 -12.052607 -12.052607 -12.052607 -12.052607 -12.052607   \n",
       "3   -11.93134  -11.93134  -11.93134  -11.93134  -11.93134  -11.93134   \n",
       "4  -11.985014 -11.985014 -11.985014 -11.985014 -11.985014 -11.985014   \n",
       "5  -11.900756 -11.900756 -11.900756 -11.900756 -11.900756 -11.900756   \n",
       "6   -12.27389  -12.27389  -12.27389  -12.27389  -12.27389  -12.27389   \n",
       "7  -11.714085 -11.714085 -11.714085 -11.714085 -11.714085 -11.714085   \n",
       "8  -12.074197 -12.074197 -12.074197 -12.074197 -12.074197 -12.074197   \n",
       "9  -12.006517 -12.006517 -12.006517 -12.006517 -12.006517 -12.006517   \n",
       "10 -12.038163 -12.038163 -12.038163 -12.038163 -12.038163 -12.038163   \n",
       "11 -12.218273 -12.218273 -12.218273 -12.218273 -12.218273 -12.218273   \n",
       "12  -12.47474  -12.47474  -12.47474  -12.47474  -12.47474  -12.47474   \n",
       "13 -12.009821 -12.009821 -12.009821 -12.009821 -12.009821 -12.009821   \n",
       "14 -12.285466 -12.285466 -12.285466 -12.285466 -12.285466 -12.285466   \n",
       "15 -12.277937 -12.277937 -12.277937 -12.277937 -12.277937 -12.277937   \n",
       "16 -12.477835 -12.477835 -12.477835 -12.477835 -12.477835 -12.477835   \n",
       "17 -12.376246 -12.376246 -12.376246 -12.376246 -12.376246 -12.376246   \n",
       "18 -12.663475 -12.663475 -12.663475 -12.663475 -12.663475 -12.663475   \n",
       "19 -12.419626 -12.419626 -12.419626 -12.419626 -12.419626 -12.419626   \n",
       "20 -12.102289 -12.102289 -12.102289 -12.102289 -12.102289 -12.102289   \n",
       "\n",
       "        61188  \n",
       "1  -12.254863  \n",
       "2  -12.052607  \n",
       "3   -11.93134  \n",
       "4  -11.985014  \n",
       "5  -11.900756  \n",
       "6   -12.27389  \n",
       "7  -11.714085  \n",
       "8  -12.074197  \n",
       "9  -12.006517  \n",
       "10 -12.038163  \n",
       "11 -12.218273  \n",
       "12  -12.47474  \n",
       "13 -12.009821  \n",
       "14 -12.285466  \n",
       "15 -12.277937  \n",
       "16 -12.477835  \n",
       "17 -12.376246  \n",
       "18 -12.663475  \n",
       "19 -12.419626  \n",
       "20 -12.102289  \n",
       "\n",
       "[20 rows x 61188 columns]"
      ],
      "text/html": "<div>\n<style scoped>\n    .dataframe tbody tr th:only-of-type {\n        vertical-align: middle;\n    }\n\n    .dataframe tbody tr th {\n        vertical-align: top;\n    }\n\n    .dataframe thead th {\n        text-align: right;\n    }\n</style>\n<table border=\"1\" class=\"dataframe\">\n  <thead>\n    <tr style=\"text-align: right;\">\n      <th></th>\n      <th>1</th>\n      <th>2</th>\n      <th>3</th>\n      <th>4</th>\n      <th>5</th>\n      <th>6</th>\n      <th>7</th>\n      <th>8</th>\n      <th>9</th>\n      <th>10</th>\n      <th>...</th>\n      <th>61179</th>\n      <th>61180</th>\n      <th>61181</th>\n      <th>61182</th>\n      <th>61183</th>\n      <th>61184</th>\n      <th>61185</th>\n      <th>61186</th>\n      <th>61187</th>\n      <th>61188</th>\n    </tr>\n  </thead>\n  <tbody>\n    <tr>\n      <th>1</th>\n      <td>-9.615805</td>\n      <td>-8.09598</td>\n      <td>-6.634462</td>\n      <td>-9.952278</td>\n      <td>-7.836022</td>\n      <td>-8.517193</td>\n      <td>-10.308953</td>\n      <td>-11.561716</td>\n      <td>-8.699515</td>\n      <td>-7.306103</td>\n      <td>...</td>\n      <td>-12.254863</td>\n      <td>-12.254863</td>\n      <td>-12.254863</td>\n      <td>-12.254863</td>\n      <td>-12.254863</td>\n      <td>-12.254863</td>\n      <td>-12.254863</td>\n      <td>-12.254863</td>\n      <td>-12.254863</td>\n      <td>-12.254863</td>\n    </tr>\n    <tr>\n      <th>2</th>\n      <td>-7.941733</td>\n      <td>-7.958262</td>\n      <td>-12.052607</td>\n      <td>-9.162235</td>\n      <td>-9.344557</td>\n      <td>-7.975069</td>\n      <td>-9.654711</td>\n      <td>-10.106697</td>\n      <td>-6.899315</td>\n      <td>-10.666312</td>\n      <td>...</td>\n      <td>-12.052607</td>\n      <td>-12.052607</td>\n      <td>-12.052607</td>\n      <td>-12.052607</td>\n      <td>-12.052607</td>\n      <td>-12.052607</td>\n      <td>-12.052607</td>\n      <td>-12.052607</td>\n      <td>-12.052607</td>\n      <td>-12.052607</td>\n    </tr>\n    <tr>\n      <th>3</th>\n      <td>-9.446433</td>\n      <td>-7.682844</td>\n      <td>-11.93134</td>\n      <td>-9.040968</td>\n      <td>-8.840297</td>\n      <td>-8.375992</td>\n      <td>-10.832727</td>\n      <td>-10.832727</td>\n      <td>-6.954606</td>\n      <td>-11.93134</td>\n      <td>...</td>\n      <td>-11.93134</td>\n      <td>-11.93134</td>\n      <td>-11.93134</td>\n      <td>-11.93134</td>\n      <td>-11.93134</td>\n      <td>-11.93134</td>\n      <td>-11.93134</td>\n      <td>-11.93134</td>\n      <td>-11.93134</td>\n      <td>-11.93134</td>\n    </tr>\n    <tr>\n      <th>4</th>\n      <td>-9.78779</td>\n      <td>-8.519279</td>\n      <td>-11.985014</td>\n      <td>-11.985014</td>\n      <td>-9.587119</td>\n      <td>-8.093194</td>\n      <td>-10.886402</td>\n      <td>-11.291867</td>\n      <td>-8.093194</td>\n      <td>-11.985014</td>\n      <td>...</td>\n      <td>-11.985014</td>\n      <td>-11.985014</td>\n      <td>-11.985014</td>\n      <td>-11.985014</td>\n      <td>-11.985014</td>\n      <td>-11.985014</td>\n      <td>-11.985014</td>\n      <td>-11.985014</td>\n      <td>-11.985014</td>\n      <td>-11.985014</td>\n    </tr>\n    <tr>\n      <th>5</th>\n      <td>-9.954846</td>\n      <td>-8.374395</td>\n      <td>-11.900756</td>\n      <td>-11.207609</td>\n      <td>-11.207609</td>\n      <td>-8.029555</td>\n      <td>-11.207609</td>\n      <td>-11.900756</td>\n      <td>-8.029555</td>\n      <td>-11.900756</td>\n      <td>...</td>\n      <td>-11.900756</td>\n      <td>-11.900756</td>\n      <td>-11.900756</td>\n      <td>-11.900756</td>\n      <td>-11.900756</td>\n      <td>-11.900756</td>\n      <td>-11.900756</td>\n      <td>-11.900756</td>\n      <td>-11.900756</td>\n      <td>-11.900756</td>\n    </tr>\n    <tr>\n      <th>6</th>\n      <td>-8.402689</td>\n      <td>-6.866718</td>\n      <td>-12.27389</td>\n      <td>-7.891864</td>\n      <td>-9.501301</td>\n      <td>-8.303598</td>\n      <td>-9.182848</td>\n      <td>-10.887596</td>\n      <td>-6.801619</td>\n      <td>-12.27389</td>\n      <td>...</td>\n      <td>-12.27389</td>\n      <td>-12.27389</td>\n      <td>-12.27389</td>\n      <td>-12.27389</td>\n      <td>-12.27389</td>\n      <td>-12.27389</td>\n      <td>-12.27389</td>\n      <td>-12.27389</td>\n      <td>-12.27389</td>\n      <td>-12.27389</td>\n    </tr>\n    <tr>\n      <th>7</th>\n      <td>-11.714085</td>\n      <td>-8.346789</td>\n      <td>-11.714085</td>\n      <td>-10.615473</td>\n      <td>-10.615473</td>\n      <td>-8.217578</td>\n      <td>-11.714085</td>\n      <td>-11.714085</td>\n      <td>-8.346789</td>\n      <td>-10.327791</td>\n      <td>...</td>\n      <td>-11.714085</td>\n      <td>-11.714085</td>\n      <td>-11.714085</td>\n      <td>-11.714085</td>\n      <td>-11.714085</td>\n      <td>-11.714085</td>\n      <td>-11.714085</td>\n      <td>-11.714085</td>\n      <td>-11.714085</td>\n      <td>-11.714085</td>\n    </tr>\n    <tr>\n      <th>8</th>\n      <td>-9.771612</td>\n      <td>-8.066864</td>\n      <td>-12.074197</td>\n      <td>-12.074197</td>\n      <td>-9.43514</td>\n      <td>-7.608289</td>\n      <td>-9.994755</td>\n      <td>-10.687903</td>\n      <td>-9.129758</td>\n      <td>-12.074197</td>\n      <td>...</td>\n      <td>-12.074197</td>\n      <td>-12.074197</td>\n      <td>-12.074197</td>\n      <td>-12.074197</td>\n      <td>-12.074197</td>\n      <td>-12.074197</td>\n      <td>-12.074197</td>\n      <td>-12.074197</td>\n      <td>-12.074197</td>\n      <td>-12.074197</td>\n    </tr>\n    <tr>\n      <th>9</th>\n      <td>-9.298467</td>\n      <td>-7.78701</td>\n      <td>-12.006517</td>\n      <td>-10.39708</td>\n      <td>-10.39708</td>\n      <td>-7.575701</td>\n      <td>-10.620223</td>\n      <td>-11.31337</td>\n      <td>-10.39708</td>\n      <td>-12.006517</td>\n      <td>...</td>\n      <td>-12.006517</td>\n      <td>-12.006517</td>\n      <td>-12.006517</td>\n      <td>-12.006517</td>\n      <td>-12.006517</td>\n      <td>-12.006517</td>\n      <td>-12.006517</td>\n      <td>-12.006517</td>\n      <td>-12.006517</td>\n      <td>-12.006517</td>\n    </tr>\n    <tr>\n      <th>10</th>\n      <td>-11.345016</td>\n      <td>-8.511802</td>\n      <td>-12.038163</td>\n      <td>-10.93955</td>\n      <td>-11.345016</td>\n      <td>-6.32443</td>\n      <td>-11.345016</td>\n      <td>-12.038163</td>\n      <td>-10.93955</td>\n      <td>-12.038163</td>\n      <td>...</td>\n      <td>-12.038163</td>\n      <td>-12.038163</td>\n      <td>-12.038163</td>\n      <td>-12.038163</td>\n      <td>-12.038163</td>\n      <td>-12.038163</td>\n      <td>-12.038163</td>\n      <td>-12.038163</td>\n      <td>-12.038163</td>\n      <td>-12.038163</td>\n    </tr>\n    <tr>\n      <th>11</th>\n      <td>-11.525126</td>\n      <td>-7.998765</td>\n      <td>-12.218273</td>\n      <td>-12.218273</td>\n      <td>-11.525126</td>\n      <td>-6.871165</td>\n      <td>-11.119661</td>\n      <td>-10.021048</td>\n      <td>-10.608835</td>\n      <td>-12.218273</td>\n      <td>...</td>\n      <td>-12.218273</td>\n      <td>-12.218273</td>\n      <td>-12.218273</td>\n      <td>-12.218273</td>\n      <td>-12.218273</td>\n      <td>-12.218273</td>\n      <td>-12.218273</td>\n      <td>-12.218273</td>\n      <td>-12.218273</td>\n      <td>-12.218273</td>\n    </tr>\n    <tr>\n      <th>12</th>\n      <td>-8.504448</td>\n      <td>-7.963881</td>\n      <td>-12.47474</td>\n      <td>-9.989833</td>\n      <td>-8.380396</td>\n      <td>-8.068021</td>\n      <td>-9.216644</td>\n      <td>-10.395299</td>\n      <td>-7.756241</td>\n      <td>-12.47474</td>\n      <td>...</td>\n      <td>-12.47474</td>\n      <td>-12.47474</td>\n      <td>-12.47474</td>\n      <td>-12.47474</td>\n      <td>-12.47474</td>\n      <td>-12.47474</td>\n      <td>-12.47474</td>\n      <td>-12.47474</td>\n      <td>-12.47474</td>\n      <td>-12.47474</td>\n    </tr>\n    <tr>\n      <th>13</th>\n      <td>-10.623526</td>\n      <td>-8.48346</td>\n      <td>-12.009821</td>\n      <td>-10.911208</td>\n      <td>-10.218061</td>\n      <td>-8.575833</td>\n      <td>-10.218061</td>\n      <td>-10.911208</td>\n      <td>-8.608623</td>\n      <td>-12.009821</td>\n      <td>...</td>\n      <td>-12.009821</td>\n      <td>-12.009821</td>\n      <td>-12.009821</td>\n      <td>-12.009821</td>\n      <td>-12.009821</td>\n      <td>-12.009821</td>\n      <td>-12.009821</td>\n      <td>-12.009821</td>\n      <td>-12.009821</td>\n      <td>-12.009821</td>\n    </tr>\n    <tr>\n      <th>14</th>\n      <td>-9.512877</td>\n      <td>-8.596586</td>\n      <td>-12.285466</td>\n      <td>-9.646409</td>\n      <td>-9.240943</td>\n      <td>-8.036971</td>\n      <td>-11.592319</td>\n      <td>-9.982881</td>\n      <td>-9.027369</td>\n      <td>-12.285466</td>\n      <td>...</td>\n      <td>-12.285466</td>\n      <td>-12.285466</td>\n      <td>-12.285466</td>\n      <td>-12.285466</td>\n      <td>-12.285466</td>\n      <td>-12.285466</td>\n      <td>-12.285466</td>\n      <td>-12.285466</td>\n      <td>-12.285466</td>\n      <td>-12.285466</td>\n    </tr>\n    <tr>\n      <th>15</th>\n      <td>-8.386117</td>\n      <td>-7.859097</td>\n      <td>-12.277937</td>\n      <td>-9.142443</td>\n      <td>-9.712988</td>\n      <td>-7.643208</td>\n      <td>-9.099884</td>\n      <td>-9.975352</td>\n      <td>-9.059062</td>\n      <td>-12.277937</td>\n      <td>...</td>\n      <td>-12.277937</td>\n      <td>-12.277937</td>\n      <td>-12.277937</td>\n      <td>-12.277937</td>\n      <td>-12.277937</td>\n      <td>-12.277937</td>\n      <td>-12.277937</td>\n      <td>-12.277937</td>\n      <td>-12.277937</td>\n      <td>-12.277937</td>\n    </tr>\n    <tr>\n      <th>16</th>\n      <td>-12.477835</td>\n      <td>-7.657553</td>\n      <td>-9.644622</td>\n      <td>-10.398393</td>\n      <td>-9.769785</td>\n      <td>-7.852862</td>\n      <td>-12.477835</td>\n      <td>-12.477835</td>\n      <td>-9.587463</td>\n      <td>-8.434784</td>\n      <td>...</td>\n      <td>-12.477835</td>\n      <td>-12.477835</td>\n      <td>-12.477835</td>\n      <td>-12.477835</td>\n      <td>-12.477835</td>\n      <td>-12.477835</td>\n      <td>-12.477835</td>\n      <td>-12.477835</td>\n      <td>-12.477835</td>\n      <td>-12.477835</td>\n    </tr>\n    <tr>\n      <th>17</th>\n      <td>-9.380513</td>\n      <td>-8.849885</td>\n      <td>-12.376246</td>\n      <td>-10.430336</td>\n      <td>-9.891339</td>\n      <td>-7.703417</td>\n      <td>-11.277633</td>\n      <td>-10.179021</td>\n      <td>-9.380513</td>\n      <td>-12.376246</td>\n      <td>...</td>\n      <td>-12.376246</td>\n      <td>-12.376246</td>\n      <td>-12.376246</td>\n      <td>-12.376246</td>\n      <td>-12.376246</td>\n      <td>-12.376246</td>\n      <td>-12.376246</td>\n      <td>-12.376246</td>\n      <td>-12.376246</td>\n      <td>-12.376246</td>\n    </tr>\n    <tr>\n      <th>18</th>\n      <td>-10.26558</td>\n      <td>-7.62005</td>\n      <td>-12.663475</td>\n      <td>-10.36089</td>\n      <td>-11.564863</td>\n      <td>-7.60723</td>\n      <td>-10.466251</td>\n      <td>-9.229488</td>\n      <td>-10.26558</td>\n      <td>-11.970328</td>\n      <td>...</td>\n      <td>-12.663475</td>\n      <td>-12.663475</td>\n      <td>-12.663475</td>\n      <td>-12.663475</td>\n      <td>-12.663475</td>\n      <td>-12.663475</td>\n      <td>-12.663475</td>\n      <td>-12.663475</td>\n      <td>-12.663475</td>\n      <td>-12.663475</td>\n    </tr>\n    <tr>\n      <th>19</th>\n      <td>-12.419626</td>\n      <td>-8.730747</td>\n      <td>-12.419626</td>\n      <td>-9.241573</td>\n      <td>-9.529255</td>\n      <td>-7.395746</td>\n      <td>-11.726479</td>\n      <td>-9.529255</td>\n      <td>-10.021731</td>\n      <td>-12.419626</td>\n      <td>...</td>\n      <td>-12.419626</td>\n      <td>-12.419626</td>\n      <td>-12.419626</td>\n      <td>-12.419626</td>\n      <td>-12.419626</td>\n      <td>-12.419626</td>\n      <td>-12.419626</td>\n      <td>-12.419626</td>\n      <td>-12.419626</td>\n      <td>-12.419626</td>\n    </tr>\n    <tr>\n      <th>20</th>\n      <td>-12.102289</td>\n      <td>-8.273647</td>\n      <td>-9.799704</td>\n      <td>-11.003676</td>\n      <td>-8.924235</td>\n      <td>-8.295626</td>\n      <td>-10.310529</td>\n      <td>-11.409141</td>\n      <td>-9.106556</td>\n      <td>-10.310529</td>\n      <td>...</td>\n      <td>-12.102289</td>\n      <td>-12.102289</td>\n      <td>-12.102289</td>\n      <td>-12.102289</td>\n      <td>-12.102289</td>\n      <td>-12.102289</td>\n      <td>-12.102289</td>\n      <td>-12.102289</td>\n      <td>-12.102289</td>\n      <td>-12.102289</td>\n    </tr>\n  </tbody>\n</table>\n<p>20 rows × 61188 columns</p>\n</div>"
     },
     "metadata": {},
     "execution_count": 7
    }
   ],
   "source": [
    "# calculating word probabilities per class\n",
    "df_data = pd.DataFrame(train_data, columns = ['docId', 'wordId', 'count'])\n",
    "df_labels = pd.DataFrame(train_labels, columns = ['classId'])\n",
    "df_labels['docId'] = df_labels.index + 1\n",
    "df_merge = df_data.merge(df_labels, how = 'left', left_on = 'docId', right_on = 'docId')\n",
    "vocab_len = vocabulary.shape[0] # total vocabulary count\n",
    "df_word_probs_by_class = pd.DataFrame([], index = range(1, 21), columns = range(1, vocab_len + 1)) # dataframe to house word probabilities\n",
    "for i in range(1, 21):\n",
    "    df_word_counts = df_merge[['wordId', 'count']][df_merge.classId == i].groupby(['wordId']).sum() # initial word counts\n",
    "    class_vocab_len = df_word_counts['count'].sum() # per class vocabulary count\n",
    "    df_dummy_vocab = pd.DataFrame([], index = range(1, vocab_len + 1)) # dummy dataframe\n",
    "    df_total_word_counts = df_dummy_vocab.merge(df_word_counts['count'], how = 'left', left_index = True, right_on = 'wordId') # total word counts\n",
    "    df_total_word_counts.fillna(0, inplace = True)\n",
    "    df_total_word_counts.set_index('wordId', drop = True, inplace = True)\n",
    "    df_total_word_counts['count'] = df_total_word_counts['count'].apply(lambda x: np.log((x + 1)/(class_vocab_len + vocab_len))) # convert to log smoothed values\n",
    "    df_word_probs_by_class.loc[i, :] = df_total_word_counts['count']\n",
    "df_word_probs_by_class"
   ]
  },
  {
   "cell_type": "code",
   "execution_count": 8,
   "metadata": {},
   "outputs": [],
   "source": [
    "# function for document classification\n",
    "def predict_document_label(docId):\n",
    "    '''\n",
    "    Returns predicted label of passed document id.\n",
    "    '''\n",
    "    df_word_counts = df_test_data.loc[df_test_data.docId == docId].copy()\n",
    "    df_word_counts.loc[:, 'count'] = df_word_counts.loc[:, 'count'].apply(lambda x: np.log(x + 1)) # log smoothed counts\n",
    "    df_total_word_counts = df_dummy_vocab.merge(df_word_counts, how = 'left', left_index = True, right_on = 'wordId') # counts of ALL words\n",
    "    df_total_word_counts.fillna(0, inplace = True)\n",
    "    df_total_word_counts.set_index('wordId', drop = True, inplace = True)\n",
    "    df_total_word_counts.drop(['docId'], axis = 1, inplace = True)\n",
    "    df_label_probs = df_word_probs_by_class.dot(df_total_word_counts).loc[:, 'count'] + df_label_fracs.loc[:, 'fracs'] # log probabilities calculation\n",
    "    label_prediction = np.argmax(df_label_probs) + 1\n",
    "    return label_prediction"
   ]
  },
  {
   "source": [
    "# Prediction Accuracy"
   ],
   "cell_type": "markdown",
   "metadata": {}
  },
  {
   "cell_type": "code",
   "execution_count": 9,
   "metadata": {
    "tags": []
   },
   "outputs": [],
   "source": [
    "# predicting labels, takes a while to run, with 5 cores -> 4 minutes\n",
    "df_test_data = pd.DataFrame(test_data, columns = ['docId', 'wordId', 'count'])\n",
    "df_predictions = pd.DataFrame(test_labels, index = range(1, test_labels.shape[0] + 1), columns = ['realLabel'])\n",
    "for i in range(1, df_predictions.shape[0] + 1):\n",
    "    df_predictions.loc[i, 'predLabel'] = predict_document_label(i)"
   ]
  },
  {
   "cell_type": "code",
   "execution_count": 10,
   "metadata": {},
   "outputs": [
    {
     "output_type": "stream",
     "name": "stdout",
     "text": [
      "Error rate: 20.92%\n"
     ]
    }
   ],
   "source": [
    "# calculating error rate\n",
    "wrong_predictions = df_predictions.query('realLabel != predLabel').shape[0]\n",
    "error_rate = round(100*wrong_predictions/df_predictions.shape[0], 2)\n",
    "print(f'Error rate: {error_rate}%')"
   ]
  },
  {
   "source": [
    "The first attempt for this classifier is decently accurate, though this can likely be improved upon. The above code already implements smoothing for zero-probability mitigation, and compensation for word burstiness. The next approach to improve accuracy would be to downweight particularly common words."
   ],
   "cell_type": "markdown",
   "metadata": {}
  },
  {
   "source": [
    "# Model Improvement\n",
    "\n"
   ],
   "cell_type": "markdown",
   "metadata": {}
  },
  {
   "cell_type": "code",
   "execution_count": 11,
   "metadata": {},
   "outputs": [
    {
     "output_type": "execute_result",
     "data": {
      "text/plain": [
       "        1         2         3         4         5         6         7      \\\n",
       "idf  5.132609  3.357274  5.378567  5.235466  4.744843  2.857465  5.388229   \n",
       "\n",
       "       8         9         10     ...      61179      61180      61181  \\\n",
       "idf  5.65351  3.845014  5.269368  ...  10.022958  10.022958  10.022958   \n",
       "\n",
       "         61182      61183      61184      61185      61186      61187  \\\n",
       "idf  10.022958  10.022958  10.022958  10.022958  10.022958  10.022958   \n",
       "\n",
       "         61188  \n",
       "idf  10.022958  \n",
       "\n",
       "[1 rows x 61188 columns]"
      ],
      "text/html": "<div>\n<style scoped>\n    .dataframe tbody tr th:only-of-type {\n        vertical-align: middle;\n    }\n\n    .dataframe tbody tr th {\n        vertical-align: top;\n    }\n\n    .dataframe thead th {\n        text-align: right;\n    }\n</style>\n<table border=\"1\" class=\"dataframe\">\n  <thead>\n    <tr style=\"text-align: right;\">\n      <th></th>\n      <th>1</th>\n      <th>2</th>\n      <th>3</th>\n      <th>4</th>\n      <th>5</th>\n      <th>6</th>\n      <th>7</th>\n      <th>8</th>\n      <th>9</th>\n      <th>10</th>\n      <th>...</th>\n      <th>61179</th>\n      <th>61180</th>\n      <th>61181</th>\n      <th>61182</th>\n      <th>61183</th>\n      <th>61184</th>\n      <th>61185</th>\n      <th>61186</th>\n      <th>61187</th>\n      <th>61188</th>\n    </tr>\n  </thead>\n  <tbody>\n    <tr>\n      <th>idf</th>\n      <td>5.132609</td>\n      <td>3.357274</td>\n      <td>5.378567</td>\n      <td>5.235466</td>\n      <td>4.744843</td>\n      <td>2.857465</td>\n      <td>5.388229</td>\n      <td>5.65351</td>\n      <td>3.845014</td>\n      <td>5.269368</td>\n      <td>...</td>\n      <td>10.022958</td>\n      <td>10.022958</td>\n      <td>10.022958</td>\n      <td>10.022958</td>\n      <td>10.022958</td>\n      <td>10.022958</td>\n      <td>10.022958</td>\n      <td>10.022958</td>\n      <td>10.022958</td>\n      <td>10.022958</td>\n    </tr>\n  </tbody>\n</table>\n<p>1 rows × 61188 columns</p>\n</div>"
     },
     "metadata": {},
     "execution_count": 11
    }
   ],
   "source": [
    "# inverse document frequencies per word\n",
    "df_word_weights = pd.DataFrame([], index = range(1, vocab_len + 1), columns = ['idf'])\n",
    "df_word_weights.loc[:, 'idf'] = df_data.groupby(['wordId', 'docId']).count().groupby(['wordId']).sum()\n",
    "document_count = df_data.docId.unique().shape[0]\n",
    "df_word_weights = df_word_weights.apply(lambda x: np.log(2*document_count/(1 + x))).T.fillna(np.log(2*document_count))\n",
    "df_word_weights"
   ]
  },
  {
   "cell_type": "code",
   "execution_count": 12,
   "metadata": {},
   "outputs": [
    {
     "output_type": "execute_result",
     "data": {
      "text/plain": [
       "        1          2          3          4          5          6      \\\n",
       "1  -49.354169 -27.180425 -35.683899 -52.104815 -37.180698 -24.337578   \n",
       "2  -40.761809 -26.718069 -64.825755 -47.968573 -44.338457 -22.788478   \n",
       "3  -48.484847 -25.793417 -64.173512 -47.333683 -41.945826 -23.934099   \n",
       "4  -50.236897 -28.601555 -64.462205 -62.747139 -45.489379 -23.126016   \n",
       "5  -51.094331 -28.115143 -64.009015 -58.677058 -53.178349 -22.944169   \n",
       "6  -43.127717 -23.053457 -66.015942 -41.317586 -45.082187 -23.727238   \n",
       "7  -60.123818 -28.022462 -63.004994  -55.57695 -50.368756 -23.481437   \n",
       "8  -50.153863 -27.082675  -64.94188 -63.214052  -44.76826 -21.740416   \n",
       "9  -47.725396 -26.143128  -64.57786  -54.43356 -49.332514 -21.647296   \n",
       "10 -58.229528 -28.576455 -64.748067 -57.273648 -53.830322 -18.071835   \n",
       "11 -59.153963 -26.854049 -65.716801 -63.968356 -54.684917 -19.634112   \n",
       "12 -43.650007 -26.736932 -67.096227 -52.301436 -39.763664 -23.054084   \n",
       "13 -54.526405 -28.481302 -64.595626 -57.125263 -48.483099  -24.50514   \n",
       "14 -48.825878 -28.861099 -66.078203 -50.503447  -43.84683 -22.965359   \n",
       "15 -43.042659 -26.385144 -66.037711 -47.864953 -46.086607 -21.840197   \n",
       "16 -64.043847 -25.708507 -51.874245 -54.440438 -46.356098 -22.439275   \n",
       "17 -48.146507 -29.711492 -66.566469  -54.60767 -46.932855 -22.012241   \n",
       "18 -52.689208 -25.582599 -68.111353 -54.244092 -54.873464 -21.737389   \n",
       "19 -63.745085 -29.311513 -66.799794 -48.383942 -45.214821 -21.133082   \n",
       "20 -62.116315 -27.776904 -52.708364 -57.609377 -42.344097 -23.704458   \n",
       "\n",
       "        7          8          9          10     ...       61179       61180  \\\n",
       "1  -55.546998 -65.364277 -33.449755 -38.498544  ... -122.829976 -122.829976   \n",
       "2  -52.021797 -57.138312 -26.527963 -56.204724  ... -120.802772 -120.802772   \n",
       "3  -58.369217 -61.242935 -26.740557 -62.870618  ... -119.587317 -119.587317   \n",
       "4  -58.658428 -63.838687 -31.118444  -63.15345  ... -120.125297 -120.125297   \n",
       "5  -60.389164 -67.281045 -30.873751 -62.709461  ... -119.280778 -119.280778   \n",
       "6  -49.479287 -61.553134 -26.152322 -64.675642  ... -123.020686 -123.020686   \n",
       "7  -63.118174   -66.2257 -32.093521 -54.420929  ... -117.409784 -117.409784   \n",
       "8  -53.854032 -60.424167 -35.104047 -63.623386  ...  -121.01917  -121.01917   \n",
       "9  -57.224195 -63.960254 -39.976916 -63.266757  ... -120.340821 -120.340821   \n",
       "10 -61.129543 -68.057876 -42.062724 -63.433508  ...    -120.658    -120.658   \n",
       "11 -59.915279 -56.654099 -40.791118 -64.382575  ... -122.463237 -122.463237   \n",
       "12 -49.661387 -58.769926 -29.822856 -65.733994  ... -125.033797 -125.033797   \n",
       "13 -55.057253 -61.686627 -33.100276 -63.284162  ... -120.373927 -120.373927   \n",
       "14 -62.462069 -56.438319 -34.710361 -64.736639  ... -123.136709 -123.136709   \n",
       "15 -49.032257 -56.395756 -34.832218 -64.696969  ... -123.061251 -123.061251   \n",
       "16 -67.233433 -70.543567 -36.863929 -44.445978  ... -125.064816 -125.064816   \n",
       "17 -60.766472   -57.5472 -36.068205 -65.214991  ... -124.046592 -124.046592   \n",
       "18 -56.394557 -52.179005 -39.471298 -63.076062  ... -126.925482 -126.925482   \n",
       "19 -63.184956 -53.873738 -38.533696  -65.44358  ... -124.481394 -124.481394   \n",
       "20 -55.555493 -64.501698 -35.014836 -54.329971  ... -121.300732 -121.300732   \n",
       "\n",
       "         61181       61182       61183       61184       61185       61186  \\\n",
       "1  -122.829976 -122.829976 -122.829976 -122.829976 -122.829976 -122.829976   \n",
       "2  -120.802772 -120.802772 -120.802772 -120.802772 -120.802772 -120.802772   \n",
       "3  -119.587317 -119.587317 -119.587317 -119.587317 -119.587317 -119.587317   \n",
       "4  -120.125297 -120.125297 -120.125297 -120.125297 -120.125297 -120.125297   \n",
       "5  -119.280778 -119.280778 -119.280778 -119.280778 -119.280778 -119.280778   \n",
       "6  -123.020686 -123.020686 -123.020686 -123.020686 -123.020686 -123.020686   \n",
       "7  -117.409784 -117.409784 -117.409784 -117.409784 -117.409784 -117.409784   \n",
       "8   -121.01917  -121.01917  -121.01917  -121.01917  -121.01917  -121.01917   \n",
       "9  -120.340821 -120.340821 -120.340821 -120.340821 -120.340821 -120.340821   \n",
       "10    -120.658    -120.658    -120.658    -120.658    -120.658    -120.658   \n",
       "11 -122.463237 -122.463237 -122.463237 -122.463237 -122.463237 -122.463237   \n",
       "12 -125.033797 -125.033797 -125.033797 -125.033797 -125.033797 -125.033797   \n",
       "13 -120.373927 -120.373927 -120.373927 -120.373927 -120.373927 -120.373927   \n",
       "14 -123.136709 -123.136709 -123.136709 -123.136709 -123.136709 -123.136709   \n",
       "15 -123.061251 -123.061251 -123.061251 -123.061251 -123.061251 -123.061251   \n",
       "16 -125.064816 -125.064816 -125.064816 -125.064816 -125.064816 -125.064816   \n",
       "17 -124.046592 -124.046592 -124.046592 -124.046592 -124.046592 -124.046592   \n",
       "18 -126.925482 -126.925482 -126.925482 -126.925482 -126.925482 -126.925482   \n",
       "19 -124.481394 -124.481394 -124.481394 -124.481394 -124.481394 -124.481394   \n",
       "20 -121.300732 -121.300732 -121.300732 -121.300732 -121.300732 -121.300732   \n",
       "\n",
       "         61187       61188  \n",
       "1  -122.829976 -122.829976  \n",
       "2  -120.802772 -120.802772  \n",
       "3  -119.587317 -119.587317  \n",
       "4  -120.125297 -120.125297  \n",
       "5  -119.280778 -119.280778  \n",
       "6  -123.020686 -123.020686  \n",
       "7  -117.409784 -117.409784  \n",
       "8   -121.01917  -121.01917  \n",
       "9  -120.340821 -120.340821  \n",
       "10    -120.658    -120.658  \n",
       "11 -122.463237 -122.463237  \n",
       "12 -125.033797 -125.033797  \n",
       "13 -120.373927 -120.373927  \n",
       "14 -123.136709 -123.136709  \n",
       "15 -123.061251 -123.061251  \n",
       "16 -125.064816 -125.064816  \n",
       "17 -124.046592 -124.046592  \n",
       "18 -126.925482 -126.925482  \n",
       "19 -124.481394 -124.481394  \n",
       "20 -121.300732 -121.300732  \n",
       "\n",
       "[20 rows x 61188 columns]"
      ],
      "text/html": "<div>\n<style scoped>\n    .dataframe tbody tr th:only-of-type {\n        vertical-align: middle;\n    }\n\n    .dataframe tbody tr th {\n        vertical-align: top;\n    }\n\n    .dataframe thead th {\n        text-align: right;\n    }\n</style>\n<table border=\"1\" class=\"dataframe\">\n  <thead>\n    <tr style=\"text-align: right;\">\n      <th></th>\n      <th>1</th>\n      <th>2</th>\n      <th>3</th>\n      <th>4</th>\n      <th>5</th>\n      <th>6</th>\n      <th>7</th>\n      <th>8</th>\n      <th>9</th>\n      <th>10</th>\n      <th>...</th>\n      <th>61179</th>\n      <th>61180</th>\n      <th>61181</th>\n      <th>61182</th>\n      <th>61183</th>\n      <th>61184</th>\n      <th>61185</th>\n      <th>61186</th>\n      <th>61187</th>\n      <th>61188</th>\n    </tr>\n  </thead>\n  <tbody>\n    <tr>\n      <th>1</th>\n      <td>-49.354169</td>\n      <td>-27.180425</td>\n      <td>-35.683899</td>\n      <td>-52.104815</td>\n      <td>-37.180698</td>\n      <td>-24.337578</td>\n      <td>-55.546998</td>\n      <td>-65.364277</td>\n      <td>-33.449755</td>\n      <td>-38.498544</td>\n      <td>...</td>\n      <td>-122.829976</td>\n      <td>-122.829976</td>\n      <td>-122.829976</td>\n      <td>-122.829976</td>\n      <td>-122.829976</td>\n      <td>-122.829976</td>\n      <td>-122.829976</td>\n      <td>-122.829976</td>\n      <td>-122.829976</td>\n      <td>-122.829976</td>\n    </tr>\n    <tr>\n      <th>2</th>\n      <td>-40.761809</td>\n      <td>-26.718069</td>\n      <td>-64.825755</td>\n      <td>-47.968573</td>\n      <td>-44.338457</td>\n      <td>-22.788478</td>\n      <td>-52.021797</td>\n      <td>-57.138312</td>\n      <td>-26.527963</td>\n      <td>-56.204724</td>\n      <td>...</td>\n      <td>-120.802772</td>\n      <td>-120.802772</td>\n      <td>-120.802772</td>\n      <td>-120.802772</td>\n      <td>-120.802772</td>\n      <td>-120.802772</td>\n      <td>-120.802772</td>\n      <td>-120.802772</td>\n      <td>-120.802772</td>\n      <td>-120.802772</td>\n    </tr>\n    <tr>\n      <th>3</th>\n      <td>-48.484847</td>\n      <td>-25.793417</td>\n      <td>-64.173512</td>\n      <td>-47.333683</td>\n      <td>-41.945826</td>\n      <td>-23.934099</td>\n      <td>-58.369217</td>\n      <td>-61.242935</td>\n      <td>-26.740557</td>\n      <td>-62.870618</td>\n      <td>...</td>\n      <td>-119.587317</td>\n      <td>-119.587317</td>\n      <td>-119.587317</td>\n      <td>-119.587317</td>\n      <td>-119.587317</td>\n      <td>-119.587317</td>\n      <td>-119.587317</td>\n      <td>-119.587317</td>\n      <td>-119.587317</td>\n      <td>-119.587317</td>\n    </tr>\n    <tr>\n      <th>4</th>\n      <td>-50.236897</td>\n      <td>-28.601555</td>\n      <td>-64.462205</td>\n      <td>-62.747139</td>\n      <td>-45.489379</td>\n      <td>-23.126016</td>\n      <td>-58.658428</td>\n      <td>-63.838687</td>\n      <td>-31.118444</td>\n      <td>-63.15345</td>\n      <td>...</td>\n      <td>-120.125297</td>\n      <td>-120.125297</td>\n      <td>-120.125297</td>\n      <td>-120.125297</td>\n      <td>-120.125297</td>\n      <td>-120.125297</td>\n      <td>-120.125297</td>\n      <td>-120.125297</td>\n      <td>-120.125297</td>\n      <td>-120.125297</td>\n    </tr>\n    <tr>\n      <th>5</th>\n      <td>-51.094331</td>\n      <td>-28.115143</td>\n      <td>-64.009015</td>\n      <td>-58.677058</td>\n      <td>-53.178349</td>\n      <td>-22.944169</td>\n      <td>-60.389164</td>\n      <td>-67.281045</td>\n      <td>-30.873751</td>\n      <td>-62.709461</td>\n      <td>...</td>\n      <td>-119.280778</td>\n      <td>-119.280778</td>\n      <td>-119.280778</td>\n      <td>-119.280778</td>\n      <td>-119.280778</td>\n      <td>-119.280778</td>\n      <td>-119.280778</td>\n      <td>-119.280778</td>\n      <td>-119.280778</td>\n      <td>-119.280778</td>\n    </tr>\n    <tr>\n      <th>6</th>\n      <td>-43.127717</td>\n      <td>-23.053457</td>\n      <td>-66.015942</td>\n      <td>-41.317586</td>\n      <td>-45.082187</td>\n      <td>-23.727238</td>\n      <td>-49.479287</td>\n      <td>-61.553134</td>\n      <td>-26.152322</td>\n      <td>-64.675642</td>\n      <td>...</td>\n      <td>-123.020686</td>\n      <td>-123.020686</td>\n      <td>-123.020686</td>\n      <td>-123.020686</td>\n      <td>-123.020686</td>\n      <td>-123.020686</td>\n      <td>-123.020686</td>\n      <td>-123.020686</td>\n      <td>-123.020686</td>\n      <td>-123.020686</td>\n    </tr>\n    <tr>\n      <th>7</th>\n      <td>-60.123818</td>\n      <td>-28.022462</td>\n      <td>-63.004994</td>\n      <td>-55.57695</td>\n      <td>-50.368756</td>\n      <td>-23.481437</td>\n      <td>-63.118174</td>\n      <td>-66.2257</td>\n      <td>-32.093521</td>\n      <td>-54.420929</td>\n      <td>...</td>\n      <td>-117.409784</td>\n      <td>-117.409784</td>\n      <td>-117.409784</td>\n      <td>-117.409784</td>\n      <td>-117.409784</td>\n      <td>-117.409784</td>\n      <td>-117.409784</td>\n      <td>-117.409784</td>\n      <td>-117.409784</td>\n      <td>-117.409784</td>\n    </tr>\n    <tr>\n      <th>8</th>\n      <td>-50.153863</td>\n      <td>-27.082675</td>\n      <td>-64.94188</td>\n      <td>-63.214052</td>\n      <td>-44.76826</td>\n      <td>-21.740416</td>\n      <td>-53.854032</td>\n      <td>-60.424167</td>\n      <td>-35.104047</td>\n      <td>-63.623386</td>\n      <td>...</td>\n      <td>-121.01917</td>\n      <td>-121.01917</td>\n      <td>-121.01917</td>\n      <td>-121.01917</td>\n      <td>-121.01917</td>\n      <td>-121.01917</td>\n      <td>-121.01917</td>\n      <td>-121.01917</td>\n      <td>-121.01917</td>\n      <td>-121.01917</td>\n    </tr>\n    <tr>\n      <th>9</th>\n      <td>-47.725396</td>\n      <td>-26.143128</td>\n      <td>-64.57786</td>\n      <td>-54.43356</td>\n      <td>-49.332514</td>\n      <td>-21.647296</td>\n      <td>-57.224195</td>\n      <td>-63.960254</td>\n      <td>-39.976916</td>\n      <td>-63.266757</td>\n      <td>...</td>\n      <td>-120.340821</td>\n      <td>-120.340821</td>\n      <td>-120.340821</td>\n      <td>-120.340821</td>\n      <td>-120.340821</td>\n      <td>-120.340821</td>\n      <td>-120.340821</td>\n      <td>-120.340821</td>\n      <td>-120.340821</td>\n      <td>-120.340821</td>\n    </tr>\n    <tr>\n      <th>10</th>\n      <td>-58.229528</td>\n      <td>-28.576455</td>\n      <td>-64.748067</td>\n      <td>-57.273648</td>\n      <td>-53.830322</td>\n      <td>-18.071835</td>\n      <td>-61.129543</td>\n      <td>-68.057876</td>\n      <td>-42.062724</td>\n      <td>-63.433508</td>\n      <td>...</td>\n      <td>-120.658</td>\n      <td>-120.658</td>\n      <td>-120.658</td>\n      <td>-120.658</td>\n      <td>-120.658</td>\n      <td>-120.658</td>\n      <td>-120.658</td>\n      <td>-120.658</td>\n      <td>-120.658</td>\n      <td>-120.658</td>\n    </tr>\n    <tr>\n      <th>11</th>\n      <td>-59.153963</td>\n      <td>-26.854049</td>\n      <td>-65.716801</td>\n      <td>-63.968356</td>\n      <td>-54.684917</td>\n      <td>-19.634112</td>\n      <td>-59.915279</td>\n      <td>-56.654099</td>\n      <td>-40.791118</td>\n      <td>-64.382575</td>\n      <td>...</td>\n      <td>-122.463237</td>\n      <td>-122.463237</td>\n      <td>-122.463237</td>\n      <td>-122.463237</td>\n      <td>-122.463237</td>\n      <td>-122.463237</td>\n      <td>-122.463237</td>\n      <td>-122.463237</td>\n      <td>-122.463237</td>\n      <td>-122.463237</td>\n    </tr>\n    <tr>\n      <th>12</th>\n      <td>-43.650007</td>\n      <td>-26.736932</td>\n      <td>-67.096227</td>\n      <td>-52.301436</td>\n      <td>-39.763664</td>\n      <td>-23.054084</td>\n      <td>-49.661387</td>\n      <td>-58.769926</td>\n      <td>-29.822856</td>\n      <td>-65.733994</td>\n      <td>...</td>\n      <td>-125.033797</td>\n      <td>-125.033797</td>\n      <td>-125.033797</td>\n      <td>-125.033797</td>\n      <td>-125.033797</td>\n      <td>-125.033797</td>\n      <td>-125.033797</td>\n      <td>-125.033797</td>\n      <td>-125.033797</td>\n      <td>-125.033797</td>\n    </tr>\n    <tr>\n      <th>13</th>\n      <td>-54.526405</td>\n      <td>-28.481302</td>\n      <td>-64.595626</td>\n      <td>-57.125263</td>\n      <td>-48.483099</td>\n      <td>-24.50514</td>\n      <td>-55.057253</td>\n      <td>-61.686627</td>\n      <td>-33.100276</td>\n      <td>-63.284162</td>\n      <td>...</td>\n      <td>-120.373927</td>\n      <td>-120.373927</td>\n      <td>-120.373927</td>\n      <td>-120.373927</td>\n      <td>-120.373927</td>\n      <td>-120.373927</td>\n      <td>-120.373927</td>\n      <td>-120.373927</td>\n      <td>-120.373927</td>\n      <td>-120.373927</td>\n    </tr>\n    <tr>\n      <th>14</th>\n      <td>-48.825878</td>\n      <td>-28.861099</td>\n      <td>-66.078203</td>\n      <td>-50.503447</td>\n      <td>-43.84683</td>\n      <td>-22.965359</td>\n      <td>-62.462069</td>\n      <td>-56.438319</td>\n      <td>-34.710361</td>\n      <td>-64.736639</td>\n      <td>...</td>\n      <td>-123.136709</td>\n      <td>-123.136709</td>\n      <td>-123.136709</td>\n      <td>-123.136709</td>\n      <td>-123.136709</td>\n      <td>-123.136709</td>\n      <td>-123.136709</td>\n      <td>-123.136709</td>\n      <td>-123.136709</td>\n      <td>-123.136709</td>\n    </tr>\n    <tr>\n      <th>15</th>\n      <td>-43.042659</td>\n      <td>-26.385144</td>\n      <td>-66.037711</td>\n      <td>-47.864953</td>\n      <td>-46.086607</td>\n      <td>-21.840197</td>\n      <td>-49.032257</td>\n      <td>-56.395756</td>\n      <td>-34.832218</td>\n      <td>-64.696969</td>\n      <td>...</td>\n      <td>-123.061251</td>\n      <td>-123.061251</td>\n      <td>-123.061251</td>\n      <td>-123.061251</td>\n      <td>-123.061251</td>\n      <td>-123.061251</td>\n      <td>-123.061251</td>\n      <td>-123.061251</td>\n      <td>-123.061251</td>\n      <td>-123.061251</td>\n    </tr>\n    <tr>\n      <th>16</th>\n      <td>-64.043847</td>\n      <td>-25.708507</td>\n      <td>-51.874245</td>\n      <td>-54.440438</td>\n      <td>-46.356098</td>\n      <td>-22.439275</td>\n      <td>-67.233433</td>\n      <td>-70.543567</td>\n      <td>-36.863929</td>\n      <td>-44.445978</td>\n      <td>...</td>\n      <td>-125.064816</td>\n      <td>-125.064816</td>\n      <td>-125.064816</td>\n      <td>-125.064816</td>\n      <td>-125.064816</td>\n      <td>-125.064816</td>\n      <td>-125.064816</td>\n      <td>-125.064816</td>\n      <td>-125.064816</td>\n      <td>-125.064816</td>\n    </tr>\n    <tr>\n      <th>17</th>\n      <td>-48.146507</td>\n      <td>-29.711492</td>\n      <td>-66.566469</td>\n      <td>-54.60767</td>\n      <td>-46.932855</td>\n      <td>-22.012241</td>\n      <td>-60.766472</td>\n      <td>-57.5472</td>\n      <td>-36.068205</td>\n      <td>-65.214991</td>\n      <td>...</td>\n      <td>-124.046592</td>\n      <td>-124.046592</td>\n      <td>-124.046592</td>\n      <td>-124.046592</td>\n      <td>-124.046592</td>\n      <td>-124.046592</td>\n      <td>-124.046592</td>\n      <td>-124.046592</td>\n      <td>-124.046592</td>\n      <td>-124.046592</td>\n    </tr>\n    <tr>\n      <th>18</th>\n      <td>-52.689208</td>\n      <td>-25.582599</td>\n      <td>-68.111353</td>\n      <td>-54.244092</td>\n      <td>-54.873464</td>\n      <td>-21.737389</td>\n      <td>-56.394557</td>\n      <td>-52.179005</td>\n      <td>-39.471298</td>\n      <td>-63.076062</td>\n      <td>...</td>\n      <td>-126.925482</td>\n      <td>-126.925482</td>\n      <td>-126.925482</td>\n      <td>-126.925482</td>\n      <td>-126.925482</td>\n      <td>-126.925482</td>\n      <td>-126.925482</td>\n      <td>-126.925482</td>\n      <td>-126.925482</td>\n      <td>-126.925482</td>\n    </tr>\n    <tr>\n      <th>19</th>\n      <td>-63.745085</td>\n      <td>-29.311513</td>\n      <td>-66.799794</td>\n      <td>-48.383942</td>\n      <td>-45.214821</td>\n      <td>-21.133082</td>\n      <td>-63.184956</td>\n      <td>-53.873738</td>\n      <td>-38.533696</td>\n      <td>-65.44358</td>\n      <td>...</td>\n      <td>-124.481394</td>\n      <td>-124.481394</td>\n      <td>-124.481394</td>\n      <td>-124.481394</td>\n      <td>-124.481394</td>\n      <td>-124.481394</td>\n      <td>-124.481394</td>\n      <td>-124.481394</td>\n      <td>-124.481394</td>\n      <td>-124.481394</td>\n    </tr>\n    <tr>\n      <th>20</th>\n      <td>-62.116315</td>\n      <td>-27.776904</td>\n      <td>-52.708364</td>\n      <td>-57.609377</td>\n      <td>-42.344097</td>\n      <td>-23.704458</td>\n      <td>-55.555493</td>\n      <td>-64.501698</td>\n      <td>-35.014836</td>\n      <td>-54.329971</td>\n      <td>...</td>\n      <td>-121.300732</td>\n      <td>-121.300732</td>\n      <td>-121.300732</td>\n      <td>-121.300732</td>\n      <td>-121.300732</td>\n      <td>-121.300732</td>\n      <td>-121.300732</td>\n      <td>-121.300732</td>\n      <td>-121.300732</td>\n      <td>-121.300732</td>\n    </tr>\n  </tbody>\n</table>\n<p>20 rows × 61188 columns</p>\n</div>"
     },
     "metadata": {},
     "execution_count": 12
    }
   ],
   "source": [
    "# applying weights to word probabilities\n",
    "for i in range(1, 21):\n",
    "    df_word_probs_by_class.loc[i, :] = df_word_probs_by_class.loc[i, :].mul(df_word_weights).values\n",
    "df_word_probs_by_class"
   ]
  },
  {
   "cell_type": "code",
   "execution_count": 13,
   "metadata": {},
   "outputs": [
    {
     "output_type": "stream",
     "name": "stdout",
     "text": [
      "Error rate: 18.09%\n"
     ]
    }
   ],
   "source": [
    "# predicting again and checking accuracy\n",
    "df_test_data = pd.DataFrame(test_data, columns = ['docId', 'wordId', 'count'])\n",
    "df_predictions = pd.DataFrame(test_labels, index = range(1, test_labels.shape[0] + 1), columns = ['realLabel'])\n",
    "for i in range(1, df_predictions.shape[0] + 1):\n",
    "    df_predictions.loc[i, 'predLabel'] = predict_document_label(i)\n",
    "wrong_predictions = df_predictions.query('realLabel != predLabel').shape[0]\n",
    "error_rate = round(100*wrong_predictions/df_predictions.shape[0], 2)\n",
    "print(f'Error rate: {error_rate}%')\n"
   ]
  }
 ],
 "metadata": {
  "kernelspec": {
   "display_name": "Python 3",
   "language": "python",
   "name": "python3"
  },
  "language_info": {
   "codemirror_mode": {
    "name": "ipython",
    "version": 3
   },
   "file_extension": ".py",
   "mimetype": "text/x-python",
   "name": "python",
   "nbconvert_exporter": "python",
   "pygments_lexer": "ipython3",
   "version": "3.8.8-final"
  }
 },
 "nbformat": 4,
 "nbformat_minor": 4
}